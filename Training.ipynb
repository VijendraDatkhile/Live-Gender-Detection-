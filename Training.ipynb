{
 "cells": [
  {
   "cell_type": "markdown",
   "metadata": {},
   "source": [
    "## Importing all the essential libraries"
   ]
  },
  {
   "cell_type": "code",
   "execution_count": 1,
   "metadata": {},
   "outputs": [],
   "source": [
    "from tensorflow.keras.preprocessing.image import ImageDataGenerator\n",
    "from tensorflow.keras.optimizers import Adam\n",
    "from tensorflow.keras.preprocessing.image import img_to_array\n",
    "from tensorflow.keras.utils import to_categorical, plot_model\n",
    "from tensorflow.keras.models import Sequential\n",
    "from tensorflow.keras.layers import BatchNormalization, Conv2D, MaxPooling2D, Activation, Flatten, Dropout, Dense\n",
    "from tensorflow.keras import backend as K\n",
    "from sklearn.model_selection import train_test_split\n",
    "import matplotlib.pyplot as plt\n",
    "import numpy as np\n",
    "import random\n",
    "import cv2\n",
    "import os\n",
    "import glob"
   ]
  },
  {
   "cell_type": "markdown",
   "metadata": {},
   "source": [
    "## Setting initial parameters"
   ]
  },
  {
   "cell_type": "code",
   "execution_count": 3,
   "metadata": {},
   "outputs": [],
   "source": [
    "# initial parameters\n",
    "epochs = 100\n",
    "lr = 1e-3\n",
    "batch_size = 64\n",
    "img_dims = (96,96,3)"
   ]
  },
  {
   "cell_type": "code",
   "execution_count": 4,
   "metadata": {},
   "outputs": [],
   "source": [
    "data = []\n",
    "labels = []"
   ]
  },
  {
   "cell_type": "markdown",
   "metadata": {},
   "source": [
    "## Loading images file from dataset"
   ]
  },
  {
   "cell_type": "code",
   "execution_count": 5,
   "metadata": {},
   "outputs": [],
   "source": [
    "# load image files from the dataset\n",
    "image_files = [f for f in glob.glob(r'C:\\Users\\Vijendra\\Downloads\\Gender-Detection-master\\Gender-Detection-master\\gender_dataset_face' + \"/**/*\", recursive=True) if not os.path.isdir(f)]\n",
    "random.shuffle(image_files)\n"
   ]
  },
  {
   "cell_type": "markdown",
   "metadata": {},
   "source": [
    "## Converting images to arrays and labelling the categories\n"
   ]
  },
  {
   "cell_type": "code",
   "execution_count": 6,
   "metadata": {},
   "outputs": [],
   "source": [
    "# converting images to arrays and labelling the categories\n",
    "for img in image_files:\n",
    "\n",
    "    image = cv2.imread(img)\n",
    "    \n",
    "    image = cv2.resize(image, (img_dims[0],img_dims[1]))  #resize the image 96x96\n",
    "    image = img_to_array(image)\n",
    "    data.append(image)\n",
    "\n",
    "    label = img.split(os.path.sep)[-2] # C:\\Users\\Vijendra\\Downloads\\Gender-Detection-master\\Gender-Detection-master\\gender_dataset_face\\woman\\face_1162.jpg\n",
    "    if label == \"woman\":\n",
    "        label = 1\n",
    "    else:\n",
    "        label = 0\n",
    "        \n",
    "    labels.append([label]) # [[1], [0], [0], ...]"
   ]
  },
  {
   "cell_type": "code",
   "execution_count": 7,
   "metadata": {},
   "outputs": [],
   "source": [
    "# pre-processing\n",
    "data = np.array(data, dtype=\"float\") / 255.0  #coverting list to array\n",
    "labels = np.array(labels)\n"
   ]
  },
  {
   "cell_type": "markdown",
   "metadata": {},
   "source": [
    "## Split dataset for training and validation\n"
   ]
  },
  {
   "cell_type": "code",
   "execution_count": 8,
   "metadata": {},
   "outputs": [],
   "source": [
    "# split dataset for training and validation\n",
    "(trainX, testX, trainY, testY) = train_test_split(data, labels, test_size=0.2,\n",
    "                                                  random_state=42)\n"
   ]
  },
  {
   "cell_type": "code",
   "execution_count": 9,
   "metadata": {},
   "outputs": [],
   "source": [
    "trainY = to_categorical(trainY, num_classes=2) # [[1, 0], [0, 1], [0, 1], ...]\n",
    "testY = to_categorical(testY, num_classes=2)   #two dimensional array\n"
   ]
  },
  {
   "cell_type": "code",
   "execution_count": 12,
   "metadata": {},
   "outputs": [],
   "source": [
    "# augmenting datset \n",
    "aug = ImageDataGenerator(rotation_range=25, width_shift_range=0.1,\n",
    "                         height_shift_range=0.1, shear_range=0.2, zoom_range=0.2,\n",
    "                         horizontal_flip=True, fill_mode=\"nearest\")\n"
   ]
  },
  {
   "cell_type": "code",
   "execution_count": 15,
   "metadata": {},
   "outputs": [],
   "source": [
    "# define model\n",
    "def build(width, height, depth, classes):\n",
    "    model = Sequential()\n",
    "    inputShape = (height, width, depth)\n",
    "    chanDim = -1\n",
    "\n",
    "    if K.image_data_format() == \"channels_first\": #Returns a string, either 'channels_first' or 'channels_last'\n",
    "        inputShape = (depth, height, width)\n",
    "        chanDim = 1\n",
    "    \n",
    "    # The axis that should be normalized, after a Conv2D layer with data_format=\"channels_first\", \n",
    "    # set axis=1 in BatchNormalization.\n",
    "\n",
    "    model.add(Conv2D(32, (3,3), padding=\"same\", input_shape=inputShape))\n",
    "    model.add(Activation(\"relu\"))\n",
    "    model.add(BatchNormalization(axis=chanDim))  #BatchNorm is usually done to keep the mean activation close to zero and std close to 1...\n",
    "    model.add(MaxPooling2D(pool_size=(3,3)))    #genrally applied to reduce noise in datset\n",
    "    model.add(Dropout(0.25))                     #to avoid overfitiing problem\n",
    "\n",
    "    model.add(Conv2D(64, (3,3), padding=\"same\"))\n",
    "    model.add(Activation(\"relu\"))\n",
    "    model.add(BatchNormalization(axis=chanDim))\n",
    "\n",
    "    model.add(Conv2D(64, (3,3), padding=\"same\"))\n",
    "    model.add(Activation(\"relu\"))\n",
    "    model.add(BatchNormalization(axis=chanDim))\n",
    "    model.add(MaxPooling2D(pool_size=(2,2)))\n",
    "    model.add(Dropout(0.25))\n",
    "\n",
    "    model.add(Conv2D(128, (3,3), padding=\"same\"))\n",
    "    model.add(Activation(\"relu\"))\n",
    "    model.add(BatchNormalization(axis=chanDim))\n",
    "\n",
    "    model.add(Conv2D(128, (3,3), padding=\"same\"))\n",
    "    model.add(Activation(\"relu\"))\n",
    "    model.add(BatchNormalization(axis=chanDim))\n",
    "    model.add(MaxPooling2D(pool_size=(2,2)))\n",
    "    model.add(Dropout(0.25))\n",
    "\n",
    "    model.add(Flatten())                  #converts 2d to 1d\n",
    "    model.add(Dense(1024))\n",
    "    model.add(Activation(\"relu\"))\n",
    "    model.add(BatchNormalization())\n",
    "    model.add(Dropout(0.5))            \n",
    "\n",
    "    model.add(Dense(classes))\n",
    "    model.add(Activation(\"sigmoid\"))    #output layer\n",
    "\n",
    "    return model"
   ]
  },
  {
   "cell_type": "code",
   "execution_count": 17,
   "metadata": {},
   "outputs": [],
   "source": [
    "# build model\n",
    "model = build(width=img_dims[0], height=img_dims[1], depth=img_dims[2],\n",
    "                            classes=2)"
   ]
  },
  {
   "cell_type": "code",
   "execution_count": 19,
   "metadata": {},
   "outputs": [],
   "source": [
    "# compile the model\n",
    "opt = Adam(lr=lr, decay=lr/epochs)\n",
    "model.compile(loss=\"binary_crossentropy\", optimizer=opt, metrics=[\"accuracy\"])"
   ]
  },
  {
   "cell_type": "code",
   "execution_count": 21,
   "metadata": {},
   "outputs": [
    {
     "name": "stderr",
     "output_type": "stream",
     "text": [
      "C:\\Users\\Vijendra\\anaconda3\\lib\\site-packages\\ipykernel_launcher.py:5: UserWarning: `Model.fit_generator` is deprecated and will be removed in a future version. Please use `Model.fit`, which supports generators.\n",
      "  \"\"\"\n"
     ]
    },
    {
     "name": "stdout",
     "output_type": "stream",
     "text": [
      "Epoch 1/100\n",
      "28/28 [==============================] - 38s 1s/step - loss: 0.6970 - accuracy: 0.7406 - val_loss: 0.9055 - val_accuracy: 0.5152\n",
      "Epoch 2/100\n",
      "28/28 [==============================] - 33s 1s/step - loss: 0.4397 - accuracy: 0.8321 - val_loss: 0.9837 - val_accuracy: 0.5152\n",
      "Epoch 3/100\n",
      "28/28 [==============================] - 35s 1s/step - loss: 0.4145 - accuracy: 0.8417 - val_loss: 1.1890 - val_accuracy: 0.4848\n",
      "Epoch 4/100\n",
      "28/28 [==============================] - 36s 1s/step - loss: 0.3680 - accuracy: 0.8725 - val_loss: 1.4429 - val_accuracy: 0.4848\n",
      "Epoch 5/100\n",
      "28/28 [==============================] - 34s 1s/step - loss: 0.3132 - accuracy: 0.8871 - val_loss: 2.4982 - val_accuracy: 0.4848\n",
      "Epoch 6/100\n",
      "28/28 [==============================] - 40s 1s/step - loss: 0.3213 - accuracy: 0.8888 - val_loss: 3.2629 - val_accuracy: 0.4848\n",
      "Epoch 7/100\n",
      "28/28 [==============================] - 39s 1s/step - loss: 0.2897 - accuracy: 0.8989 - val_loss: 1.9416 - val_accuracy: 0.4848\n",
      "Epoch 8/100\n",
      "28/28 [==============================] - 40s 1s/step - loss: 0.2845 - accuracy: 0.9001 - val_loss: 1.9203 - val_accuracy: 0.4913\n",
      "Epoch 9/100\n",
      "28/28 [==============================] - 42s 1s/step - loss: 0.2332 - accuracy: 0.9079 - val_loss: 0.4171 - val_accuracy: 0.8160\n",
      "Epoch 10/100\n",
      "28/28 [==============================] - 40s 1s/step - loss: 0.2323 - accuracy: 0.9090 - val_loss: 0.4040 - val_accuracy: 0.8377\n",
      "Epoch 11/100\n",
      "28/28 [==============================] - 42s 2s/step - loss: 0.2268 - accuracy: 0.9158 - val_loss: 1.2022 - val_accuracy: 0.5541\n",
      "Epoch 12/100\n",
      "28/28 [==============================] - 39s 1s/step - loss: 0.1801 - accuracy: 0.9281 - val_loss: 2.2010 - val_accuracy: 0.5087\n",
      "Epoch 13/100\n",
      "28/28 [==============================] - 39s 1s/step - loss: 0.2080 - accuracy: 0.9180 - val_loss: 2.0291 - val_accuracy: 0.5606\n",
      "Epoch 14/100\n",
      "28/28 [==============================] - 39s 1s/step - loss: 0.2008 - accuracy: 0.9242 - val_loss: 0.7007 - val_accuracy: 0.7489\n",
      "Epoch 15/100\n",
      "28/28 [==============================] - 39s 1s/step - loss: 0.1620 - accuracy: 0.9377 - val_loss: 0.4106 - val_accuracy: 0.8550\n",
      "Epoch 16/100\n",
      "28/28 [==============================] - 40s 1s/step - loss: 0.1523 - accuracy: 0.9439 - val_loss: 0.2400 - val_accuracy: 0.9004\n",
      "Epoch 17/100\n",
      "28/28 [==============================] - 39s 1s/step - loss: 0.1369 - accuracy: 0.9517 - val_loss: 0.1622 - val_accuracy: 0.9394\n",
      "Epoch 18/100\n",
      "28/28 [==============================] - 33s 1s/step - loss: 0.1380 - accuracy: 0.9483 - val_loss: 0.2093 - val_accuracy: 0.9177\n",
      "Epoch 19/100\n",
      "28/28 [==============================] - 34s 1s/step - loss: 0.1532 - accuracy: 0.9506 - val_loss: 0.1567 - val_accuracy: 0.9481\n",
      "Epoch 20/100\n",
      "28/28 [==============================] - 35s 1s/step - loss: 0.1330 - accuracy: 0.9467 - val_loss: 0.1225 - val_accuracy: 0.9610\n",
      "Epoch 21/100\n",
      "28/28 [==============================] - 33s 1s/step - loss: 0.1291 - accuracy: 0.9540 - val_loss: 0.1360 - val_accuracy: 0.9502\n",
      "Epoch 22/100\n",
      "28/28 [==============================] - 32s 1s/step - loss: 0.0987 - accuracy: 0.9635 - val_loss: 0.0885 - val_accuracy: 0.9719\n",
      "Epoch 23/100\n",
      "28/28 [==============================] - 32s 1s/step - loss: 0.0984 - accuracy: 0.9629 - val_loss: 0.1191 - val_accuracy: 0.9524\n",
      "Epoch 24/100\n",
      "28/28 [==============================] - 33s 1s/step - loss: 0.0956 - accuracy: 0.9652 - val_loss: 0.1648 - val_accuracy: 0.9502\n",
      "Epoch 25/100\n",
      "28/28 [==============================] - 32s 1s/step - loss: 0.0870 - accuracy: 0.9624 - val_loss: 0.0908 - val_accuracy: 0.9697\n",
      "Epoch 26/100\n",
      "28/28 [==============================] - 33s 1s/step - loss: 0.1191 - accuracy: 0.9551 - val_loss: 0.1232 - val_accuracy: 0.9719\n",
      "Epoch 27/100\n",
      "28/28 [==============================] - 34s 1s/step - loss: 0.0923 - accuracy: 0.9641 - val_loss: 0.0902 - val_accuracy: 0.9784\n",
      "Epoch 28/100\n",
      "28/28 [==============================] - 33s 1s/step - loss: 0.0911 - accuracy: 0.9629 - val_loss: 0.1296 - val_accuracy: 0.9610\n",
      "Epoch 29/100\n",
      "28/28 [==============================] - 33s 1s/step - loss: 0.0803 - accuracy: 0.9714 - val_loss: 0.1290 - val_accuracy: 0.9545\n",
      "Epoch 30/100\n",
      "28/28 [==============================] - 33s 1s/step - loss: 0.0909 - accuracy: 0.9652 - val_loss: 0.5815 - val_accuracy: 0.8593\n",
      "Epoch 31/100\n",
      "28/28 [==============================] - 35s 1s/step - loss: 0.0967 - accuracy: 0.9590 - val_loss: 0.5434 - val_accuracy: 0.8636\n",
      "Epoch 32/100\n",
      "28/28 [==============================] - 43s 2s/step - loss: 0.0763 - accuracy: 0.9714 - val_loss: 0.1673 - val_accuracy: 0.9545\n",
      "Epoch 33/100\n",
      "28/28 [==============================] - 39s 1s/step - loss: 0.0858 - accuracy: 0.9663 - val_loss: 0.1387 - val_accuracy: 0.9610\n",
      "Epoch 34/100\n",
      "28/28 [==============================] - 40s 1s/step - loss: 0.0831 - accuracy: 0.9708 - val_loss: 0.4577 - val_accuracy: 0.8788\n",
      "Epoch 35/100\n",
      "28/28 [==============================] - 41s 1s/step - loss: 0.0640 - accuracy: 0.9753 - val_loss: 0.2688 - val_accuracy: 0.9156\n",
      "Epoch 36/100\n",
      "28/28 [==============================] - 34s 1s/step - loss: 0.0700 - accuracy: 0.9719 - val_loss: 0.1190 - val_accuracy: 0.9675\n",
      "Epoch 37/100\n",
      "28/28 [==============================] - 36s 1s/step - loss: 0.0758 - accuracy: 0.9747 - val_loss: 0.4223 - val_accuracy: 0.8615\n",
      "Epoch 38/100\n",
      "28/28 [==============================] - 37s 1s/step - loss: 0.0879 - accuracy: 0.9613 - val_loss: 0.1053 - val_accuracy: 0.9675\n",
      "Epoch 39/100\n",
      "28/28 [==============================] - 41s 1s/step - loss: 0.0681 - accuracy: 0.9719 - val_loss: 0.1428 - val_accuracy: 0.9567\n",
      "Epoch 40/100\n",
      "28/28 [==============================] - 39s 1s/step - loss: 0.0683 - accuracy: 0.9714 - val_loss: 0.1011 - val_accuracy: 0.9740\n",
      "Epoch 41/100\n",
      "28/28 [==============================] - 39s 1s/step - loss: 0.0749 - accuracy: 0.9682 - val_loss: 0.1538 - val_accuracy: 0.9437\n",
      "Epoch 42/100\n",
      "28/28 [==============================] - 36s 1s/step - loss: 0.0708 - accuracy: 0.9697 - val_loss: 0.1264 - val_accuracy: 0.9502\n",
      "Epoch 43/100\n",
      "28/28 [==============================] - 42s 1s/step - loss: 0.0793 - accuracy: 0.9708 - val_loss: 0.4724 - val_accuracy: 0.8550\n",
      "Epoch 44/100\n",
      "28/28 [==============================] - 42s 1s/step - loss: 0.0629 - accuracy: 0.9759 - val_loss: 0.2762 - val_accuracy: 0.9113\n",
      "Epoch 45/100\n",
      "28/28 [==============================] - 42s 1s/step - loss: 0.0841 - accuracy: 0.9686 - val_loss: 0.1995 - val_accuracy: 0.9481\n",
      "Epoch 46/100\n",
      "28/28 [==============================] - 43s 2s/step - loss: 0.0584 - accuracy: 0.9770 - val_loss: 0.3265 - val_accuracy: 0.9004\n",
      "Epoch 47/100\n",
      "28/28 [==============================] - 42s 1s/step - loss: 0.0626 - accuracy: 0.9747 - val_loss: 0.0965 - val_accuracy: 0.9697\n",
      "Epoch 48/100\n",
      "28/28 [==============================] - 37s 1s/step - loss: 0.0759 - accuracy: 0.9646 - val_loss: 0.1120 - val_accuracy: 0.9675\n",
      "Epoch 49/100\n",
      "28/28 [==============================] - 40s 1s/step - loss: 0.0830 - accuracy: 0.9657 - val_loss: 0.4919 - val_accuracy: 0.8506\n",
      "Epoch 50/100\n",
      "28/28 [==============================] - 33s 1s/step - loss: 0.0500 - accuracy: 0.9803 - val_loss: 0.4701 - val_accuracy: 0.8593\n",
      "Epoch 51/100\n",
      "28/28 [==============================] - 38s 1s/step - loss: 0.0622 - accuracy: 0.9775 - val_loss: 0.1308 - val_accuracy: 0.9610\n",
      "Epoch 52/100\n",
      "28/28 [==============================] - 38s 1s/step - loss: 0.0663 - accuracy: 0.9747 - val_loss: 0.1073 - val_accuracy: 0.9654\n",
      "Epoch 53/100\n",
      "28/28 [==============================] - 34s 1s/step - loss: 0.0541 - accuracy: 0.9803 - val_loss: 0.6584 - val_accuracy: 0.8355\n",
      "Epoch 54/100\n",
      "28/28 [==============================] - 33s 1s/step - loss: 0.0663 - accuracy: 0.9753 - val_loss: 0.2631 - val_accuracy: 0.9091\n",
      "Epoch 55/100\n",
      "28/28 [==============================] - 35s 1s/step - loss: 0.0865 - accuracy: 0.9691 - val_loss: 0.1612 - val_accuracy: 0.9459\n",
      "Epoch 56/100\n",
      "28/28 [==============================] - 39s 1s/step - loss: 0.0639 - accuracy: 0.9775 - val_loss: 0.0824 - val_accuracy: 0.9697\n",
      "Epoch 57/100\n",
      "28/28 [==============================] - 42s 1s/step - loss: 0.0589 - accuracy: 0.9787 - val_loss: 0.1338 - val_accuracy: 0.9697\n",
      "Epoch 58/100\n",
      "28/28 [==============================] - 41s 1s/step - loss: 0.0602 - accuracy: 0.9792 - val_loss: 0.3248 - val_accuracy: 0.9091\n"
     ]
    },
    {
     "name": "stdout",
     "output_type": "stream",
     "text": [
      "Epoch 59/100\n",
      "28/28 [==============================] - 40s 1s/step - loss: 0.0757 - accuracy: 0.9714 - val_loss: 0.4624 - val_accuracy: 0.8636\n",
      "Epoch 60/100\n",
      "28/28 [==============================] - 37s 1s/step - loss: 0.0694 - accuracy: 0.9759 - val_loss: 0.8531 - val_accuracy: 0.7684\n",
      "Epoch 61/100\n",
      "28/28 [==============================] - 37s 1s/step - loss: 0.0730 - accuracy: 0.9725 - val_loss: 0.1362 - val_accuracy: 0.9524\n",
      "Epoch 62/100\n",
      "28/28 [==============================] - 41s 1s/step - loss: 0.0715 - accuracy: 0.9759 - val_loss: 0.1631 - val_accuracy: 0.9524\n",
      "Epoch 63/100\n",
      "28/28 [==============================] - 40s 1s/step - loss: 0.0524 - accuracy: 0.9826 - val_loss: 0.1868 - val_accuracy: 0.9459\n",
      "Epoch 64/100\n",
      "28/28 [==============================] - 41s 1s/step - loss: 0.0509 - accuracy: 0.9787 - val_loss: 0.1629 - val_accuracy: 0.9567\n",
      "Epoch 65/100\n",
      "28/28 [==============================] - 41s 1s/step - loss: 0.0623 - accuracy: 0.9775 - val_loss: 0.1257 - val_accuracy: 0.9567\n",
      "Epoch 66/100\n",
      "28/28 [==============================] - 34s 1s/step - loss: 0.0561 - accuracy: 0.9770 - val_loss: 0.1054 - val_accuracy: 0.9719\n",
      "Epoch 67/100\n",
      "28/28 [==============================] - 40s 1s/step - loss: 0.0436 - accuracy: 0.9838 - val_loss: 0.1463 - val_accuracy: 0.9675\n",
      "Epoch 68/100\n",
      "28/28 [==============================] - 38s 1s/step - loss: 0.0471 - accuracy: 0.9803 - val_loss: 0.1063 - val_accuracy: 0.9675\n",
      "Epoch 69/100\n",
      "28/28 [==============================] - 33s 1s/step - loss: 0.0526 - accuracy: 0.9787 - val_loss: 0.1224 - val_accuracy: 0.9654\n",
      "Epoch 70/100\n",
      "28/28 [==============================] - 36s 1s/step - loss: 0.0473 - accuracy: 0.9837 - val_loss: 0.2000 - val_accuracy: 0.9502\n",
      "Epoch 71/100\n",
      "28/28 [==============================] - 34s 1s/step - loss: 0.0489 - accuracy: 0.9837 - val_loss: 0.1164 - val_accuracy: 0.9610\n",
      "Epoch 72/100\n",
      "28/28 [==============================] - 34s 1s/step - loss: 0.0534 - accuracy: 0.9792 - val_loss: 0.2508 - val_accuracy: 0.9177\n",
      "Epoch 73/100\n",
      "28/28 [==============================] - 34s 1s/step - loss: 0.0578 - accuracy: 0.9792 - val_loss: 0.1320 - val_accuracy: 0.9632\n",
      "Epoch 74/100\n",
      "28/28 [==============================] - 35s 1s/step - loss: 0.0463 - accuracy: 0.9843 - val_loss: 0.1398 - val_accuracy: 0.9545\n",
      "Epoch 75/100\n",
      "28/28 [==============================] - 32s 1s/step - loss: 0.0456 - accuracy: 0.9832 - val_loss: 0.3319 - val_accuracy: 0.8961\n",
      "Epoch 76/100\n",
      "28/28 [==============================] - 35s 1s/step - loss: 0.0215 - accuracy: 0.9933 - val_loss: 0.1470 - val_accuracy: 0.9675\n",
      "Epoch 77/100\n",
      "28/28 [==============================] - 38s 1s/step - loss: 0.0277 - accuracy: 0.9899 - val_loss: 0.2759 - val_accuracy: 0.9459\n",
      "Epoch 78/100\n",
      "28/28 [==============================] - 33s 1s/step - loss: 0.0437 - accuracy: 0.9843 - val_loss: 0.3060 - val_accuracy: 0.9329\n",
      "Epoch 79/100\n",
      "28/28 [==============================] - 32s 1s/step - loss: 0.0629 - accuracy: 0.9753 - val_loss: 1.3201 - val_accuracy: 0.7597\n",
      "Epoch 80/100\n",
      "28/28 [==============================] - 36s 1s/step - loss: 0.0421 - accuracy: 0.9832 - val_loss: 0.1316 - val_accuracy: 0.9632\n",
      "Epoch 81/100\n",
      "28/28 [==============================] - 39s 1s/step - loss: 0.0698 - accuracy: 0.9798 - val_loss: 0.1369 - val_accuracy: 0.9632\n",
      "Epoch 82/100\n",
      "28/28 [==============================] - 32s 1s/step - loss: 0.0549 - accuracy: 0.9803 - val_loss: 0.0985 - val_accuracy: 0.9697\n",
      "Epoch 83/100\n",
      "28/28 [==============================] - 31s 1s/step - loss: 0.0444 - accuracy: 0.9832 - val_loss: 0.2603 - val_accuracy: 0.9351\n",
      "Epoch 84/100\n",
      "28/28 [==============================] - 32s 1s/step - loss: 0.0278 - accuracy: 0.9888 - val_loss: 0.1873 - val_accuracy: 0.9416\n",
      "Epoch 85/100\n",
      "28/28 [==============================] - 32s 1s/step - loss: 0.0494 - accuracy: 0.9798 - val_loss: 0.1527 - val_accuracy: 0.9589\n",
      "Epoch 86/100\n",
      "28/28 [==============================] - 33s 1s/step - loss: 0.0369 - accuracy: 0.9860 - val_loss: 0.1150 - val_accuracy: 0.9654\n",
      "Epoch 87/100\n",
      "28/28 [==============================] - 32s 1s/step - loss: 0.0319 - accuracy: 0.9905 - val_loss: 0.0910 - val_accuracy: 0.9762\n",
      "Epoch 88/100\n",
      "28/28 [==============================] - 31s 1s/step - loss: 0.0374 - accuracy: 0.9876 - val_loss: 0.2825 - val_accuracy: 0.9264\n",
      "Epoch 89/100\n",
      "28/28 [==============================] - 32s 1s/step - loss: 0.0419 - accuracy: 0.9865 - val_loss: 0.1414 - val_accuracy: 0.9589\n",
      "Epoch 90/100\n",
      "28/28 [==============================] - 31s 1s/step - loss: 0.0283 - accuracy: 0.9921 - val_loss: 0.1679 - val_accuracy: 0.9481\n",
      "Epoch 91/100\n",
      "28/28 [==============================] - 32s 1s/step - loss: 0.0529 - accuracy: 0.9820 - val_loss: 0.1176 - val_accuracy: 0.9675\n",
      "Epoch 92/100\n",
      "28/28 [==============================] - 32s 1s/step - loss: 0.0514 - accuracy: 0.9820 - val_loss: 0.0796 - val_accuracy: 0.9697\n",
      "Epoch 93/100\n",
      "28/28 [==============================] - 32s 1s/step - loss: 0.0607 - accuracy: 0.9815 - val_loss: 0.1547 - val_accuracy: 0.9524\n",
      "Epoch 94/100\n",
      "28/28 [==============================] - 32s 1s/step - loss: 0.0666 - accuracy: 0.9770 - val_loss: 2.2195 - val_accuracy: 0.6450\n",
      "Epoch 95/100\n",
      "28/28 [==============================] - 35s 1s/step - loss: 0.0552 - accuracy: 0.9798 - val_loss: 0.1427 - val_accuracy: 0.9567\n",
      "Epoch 96/100\n",
      "28/28 [==============================] - 34s 1s/step - loss: 0.0464 - accuracy: 0.9826 - val_loss: 0.1276 - val_accuracy: 0.9545\n",
      "Epoch 97/100\n",
      "28/28 [==============================] - 33s 1s/step - loss: 0.0330 - accuracy: 0.9888 - val_loss: 1.2234 - val_accuracy: 0.7965\n",
      "Epoch 98/100\n",
      "28/28 [==============================] - 33s 1s/step - loss: 0.0376 - accuracy: 0.9871 - val_loss: 0.3696 - val_accuracy: 0.9134\n",
      "Epoch 99/100\n",
      "28/28 [==============================] - 34s 1s/step - loss: 0.0488 - accuracy: 0.9798 - val_loss: 0.2700 - val_accuracy: 0.9394\n",
      "Epoch 100/100\n",
      "28/28 [==============================] - 32s 1s/step - loss: 0.0311 - accuracy: 0.9865 - val_loss: 0.4437 - val_accuracy: 0.9004\n"
     ]
    }
   ],
   "source": [
    "# train the model\n",
    "H = model.fit_generator(aug.flow(trainX, trainY, batch_size=batch_size),\n",
    "                        validation_data=(testX,testY),\n",
    "                        steps_per_epoch=len(trainX) // batch_size,\n",
    "                        epochs=epochs, verbose=1)"
   ]
  },
  {
   "cell_type": "code",
   "execution_count": 14,
   "metadata": {},
   "outputs": [
    {
     "name": "stdout",
     "output_type": "stream",
     "text": [
      "INFO:tensorflow:Assets written to: gender_detection1.model\\assets\n"
     ]
    }
   ],
   "source": [
    "# save the model to disk\n",
    "model.save('gender_detection1.model')"
   ]
  },
  {
   "cell_type": "code",
   "execution_count": 26,
   "metadata": {},
   "outputs": [
    {
     "data": {
      "text/plain": [
       "<matplotlib.legend.Legend at 0x1e0c4f71308>"
      ]
     },
     "execution_count": 26,
     "metadata": {},
     "output_type": "execute_result"
    },
    {
     "data": {
      "image/png": "[encoded data removed]",
      "text/plain": [
       "<Figure size 432x288 with 1 Axes>"
      ]
     },
     "metadata": {},
     "output_type": "display_data"
    }
   ],
   "source": [
    "# plot training/validation loss/accuracy\n",
    "plt.style.use(\"ggplot\")\n",
    "plt.figure()\n",
    "N = epochs\n",
    "plt.plot(np.arange(0,N), H.history[\"loss\"], label=\"train_loss\")\n",
    "plt.plot(np.arange(0,N), H.history[\"val_loss\"], label=\"val_loss\")\n",
    "plt.plot(np.arange(0,N), H.history[\"accuracy\"], label=\"train_acc\")\n",
    "plt.plot(np.arange(0,N), H.history[\"val_accuracy\"], label=\"val_acc\")\n",
    "\n",
    "plt.title(\"Training Loss and Accuracy\")\n",
    "plt.xlabel(\"Epoch #\")\n",
    "plt.ylabel(\"Loss/Accuracy\")\n",
    "plt.legend(loc=\"upper right\")\n"
   ]
  },
  {
   "cell_type": "code",
   "execution_count": 19,
   "metadata": {},
   "outputs": [
    {
     "data": {
      "text/plain": [
       "<Figure size 432x288 with 0 Axes>"
      ]
     },
     "metadata": {},
     "output_type": "display_data"
    }
   ],
   "source": [
    "# save plot to disk\n",
    "plt.savefig('plot2.png')"
   ]
  },
  {
   "cell_type": "code",
   "execution_count": null,
   "metadata": {},
   "outputs": [],
   "source": []
  },
  {
   "cell_type": "code",
   "execution_count": null,
   "metadata": {},
   "outputs": [],
   "source": []
  }
 ],
 "metadata": {
  "kernelspec": {
   "display_name": "Python 3",
   "language": "python",
   "name": "python3"
  },
  "language_info": {
   "codemirror_mode": {
    "name": "ipython",
    "version": 3
   },
   "file_extension": ".py",
   "mimetype": "text/x-python",
   "name": "python",
   "nbconvert_exporter": "python",
   "pygments_lexer": "ipython3",
   "version": "3.7.6"
  }
 },
 "nbformat": 4,
 "nbformat_minor": 4
}
